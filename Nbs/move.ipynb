{
 "cells": [
  {
   "cell_type": "code",
   "execution_count": 6,
   "metadata": {},
   "outputs": [
    {
     "name": "stdout",
     "output_type": "stream",
     "text": [
      "MoviePy - Building file output.gif with imageio.\n"
     ]
    },
    {
     "name": "stderr",
     "output_type": "stream",
     "text": [
      "                                                              \r"
     ]
    }
   ],
   "source": [
    "from moviepy.editor import VideoFileClip\n",
    "\n",
    "# Load your video file\n",
    "video = VideoFileClip('/home/ginger/code/gderiddershanghai/Team_4_streamlit/Nbs/20240419230123.mp4')\n",
    "\n",
    "# Clip the first 5 seconds of the video\n",
    "video_clip = video.subclip(0, 42)\n",
    "\n",
    "# Crop the video to remove white sidebars.\n",
    "# Replace the following numbers with the coordinates that correspond to the area you want to crop.\n",
    "# For instance, if the white sidebar is 50 pixels wide on both sides, you would start at x1=50 and end at x2=width-50.\n",
    "cropped_clip = video_clip.crop(x1=215, y1=100, x2=video_clip.w-215, y2=-100) # video_clip.h)\n",
    "\n",
    "# Convert the cropped video clip to a GIF\n",
    "cropped_clip.write_gif('output_2.gif')\n"
   ]
  }
 ],
 "metadata": {
  "kernelspec": {
   "display_name": "Python 3",
   "language": "python",
   "name": "python3"
  },
  "language_info": {
   "codemirror_mode": {
    "name": "ipython",
    "version": 3
   },
   "file_extension": ".py",
   "mimetype": "text/x-python",
   "name": "python",
   "nbconvert_exporter": "python",
   "pygments_lexer": "ipython3",
   "version": "3.10.6"
  }
 },
 "nbformat": 4,
 "nbformat_minor": 2
}
